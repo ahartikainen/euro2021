{
 "cells": [
  {
   "cell_type": "code",
   "execution_count": 1,
   "metadata": {},
   "outputs": [],
   "source": [
    "import pandas as pd\n",
    "import cmdstanpy\n",
    "import numpy as np\n",
    "import matplotlib.pyplot as plt\n",
    "%matplotlib inline"
   ]
  },
  {
   "cell_type": "code",
   "execution_count": 2,
   "metadata": {},
   "outputs": [],
   "source": [
    "data = pd.read_csv(\"./Data/input_data.csv\")"
   ]
  },
  {
   "cell_type": "code",
   "execution_count": 3,
   "metadata": {},
   "outputs": [
    {
     "data": {
      "text/html": [
       "<div>\n",
       "<style scoped>\n",
       "    .dataframe tbody tr th:only-of-type {\n",
       "        vertical-align: middle;\n",
       "    }\n",
       "\n",
       "    .dataframe tbody tr th {\n",
       "        vertical-align: top;\n",
       "    }\n",
       "\n",
       "    .dataframe thead th {\n",
       "        text-align: right;\n",
       "    }\n",
       "</style>\n",
       "<table border=\"1\" class=\"dataframe\">\n",
       "  <thead>\n",
       "    <tr style=\"text-align: right;\">\n",
       "      <th></th>\n",
       "      <th>date</th>\n",
       "      <th>home_team</th>\n",
       "      <th>away_team</th>\n",
       "      <th>home_score</th>\n",
       "      <th>away_score</th>\n",
       "      <th>tournament</th>\n",
       "      <th>city</th>\n",
       "      <th>country</th>\n",
       "      <th>neutral</th>\n",
       "    </tr>\n",
       "  </thead>\n",
       "  <tbody>\n",
       "    <tr>\n",
       "      <th>0</th>\n",
       "      <td>2016-01-03</td>\n",
       "      <td>India</td>\n",
       "      <td>Afghanistan</td>\n",
       "      <td>2</td>\n",
       "      <td>1</td>\n",
       "      <td>SAFF Cup</td>\n",
       "      <td>Thiruvananthapuram</td>\n",
       "      <td>India</td>\n",
       "      <td>False</td>\n",
       "    </tr>\n",
       "    <tr>\n",
       "      <th>1</th>\n",
       "      <td>2016-01-06</td>\n",
       "      <td>Rwanda</td>\n",
       "      <td>Cameroon</td>\n",
       "      <td>1</td>\n",
       "      <td>1</td>\n",
       "      <td>Friendly</td>\n",
       "      <td>Gisenyi</td>\n",
       "      <td>Rwanda</td>\n",
       "      <td>False</td>\n",
       "    </tr>\n",
       "    <tr>\n",
       "      <th>2</th>\n",
       "      <td>2016-01-06</td>\n",
       "      <td>Sweden</td>\n",
       "      <td>Estonia</td>\n",
       "      <td>1</td>\n",
       "      <td>1</td>\n",
       "      <td>Friendly</td>\n",
       "      <td>Abu Dhabi</td>\n",
       "      <td>United Arab Emirates</td>\n",
       "      <td>True</td>\n",
       "    </tr>\n",
       "    <tr>\n",
       "      <th>3</th>\n",
       "      <td>2016-01-08</td>\n",
       "      <td>Bangladesh</td>\n",
       "      <td>Sri Lanka</td>\n",
       "      <td>4</td>\n",
       "      <td>2</td>\n",
       "      <td>Friendly</td>\n",
       "      <td>Jessore</td>\n",
       "      <td>Bangladesh</td>\n",
       "      <td>False</td>\n",
       "    </tr>\n",
       "    <tr>\n",
       "      <th>4</th>\n",
       "      <td>2016-01-08</td>\n",
       "      <td>Trinidad and Tobago</td>\n",
       "      <td>Haiti</td>\n",
       "      <td>0</td>\n",
       "      <td>1</td>\n",
       "      <td>Copa América qualification</td>\n",
       "      <td>Panama City</td>\n",
       "      <td>Panama</td>\n",
       "      <td>True</td>\n",
       "    </tr>\n",
       "  </tbody>\n",
       "</table>\n",
       "</div>"
      ],
      "text/plain": [
       "         date            home_team    away_team  home_score  away_score  \\\n",
       "0  2016-01-03                India  Afghanistan           2           1   \n",
       "1  2016-01-06               Rwanda     Cameroon           1           1   \n",
       "2  2016-01-06               Sweden      Estonia           1           1   \n",
       "3  2016-01-08           Bangladesh    Sri Lanka           4           2   \n",
       "4  2016-01-08  Trinidad and Tobago        Haiti           0           1   \n",
       "\n",
       "                   tournament                city               country  \\\n",
       "0                    SAFF Cup  Thiruvananthapuram                 India   \n",
       "1                    Friendly             Gisenyi                Rwanda   \n",
       "2                    Friendly           Abu Dhabi  United Arab Emirates   \n",
       "3                    Friendly             Jessore            Bangladesh   \n",
       "4  Copa América qualification         Panama City                Panama   \n",
       "\n",
       "   neutral  \n",
       "0    False  \n",
       "1    False  \n",
       "2     True  \n",
       "3    False  \n",
       "4     True  "
      ]
     },
     "execution_count": 3,
     "metadata": {},
     "output_type": "execute_result"
    }
   ],
   "source": [
    "data.head()"
   ]
  },
  {
   "cell_type": "code",
   "execution_count": 4,
   "metadata": {},
   "outputs": [],
   "source": [
    "games_played = data[\"home_team\"].value_counts() + data[\"away_team\"].value_counts()"
   ]
  },
  {
   "cell_type": "code",
   "execution_count": 5,
   "metadata": {},
   "outputs": [],
   "source": [
    "teams = games_played.index.to_series().reset_index(drop=True)"
   ]
  },
  {
   "cell_type": "code",
   "execution_count": 6,
   "metadata": {},
   "outputs": [
    {
     "data": {
      "text/plain": [
       "272"
      ]
     },
     "execution_count": 6,
     "metadata": {},
     "output_type": "execute_result"
    }
   ],
   "source": [
    "nteams = len(teams)\n",
    "nteams"
   ]
  },
  {
   "cell_type": "code",
   "execution_count": 7,
   "metadata": {},
   "outputs": [],
   "source": [
    "prior_score_att_mag = data.groupby(\"home_team\")[\"home_score\"].sum() + data.groupby(\"away_team\")[\"away_score\"].sum()\n",
    "prior_score_def_mag =  data.groupby(\"home_team\")[\"away_score\"].sum() + data.groupby(\"away_team\")[\"home_score\"].sum()\n",
    "\n",
    "prior_score_att_rel = prior_score_att_mag / games_played\n",
    "prior_score_def_rel = prior_score_def_mag / games_played\n",
    "\n",
    "prior_score_att = (prior_score_att_rel - np.mean(prior_score_att_rel))/(1.5*np.std(prior_score_att_rel, ddof=1))\n",
    "prior_score_def = (prior_score_def_rel - np.mean(prior_score_def_rel))/(1.5*np.std(prior_score_def_rel, ddof=1))"
   ]
  },
  {
   "cell_type": "code",
   "execution_count": 8,
   "metadata": {},
   "outputs": [
    {
     "data": {
      "text/plain": [
       "Isle of Man           3.780957\n",
       "Yorkshire             2.671067\n",
       "Parishes of Jersey    2.466164\n",
       "Jersey                2.152407\n",
       "Cascadia              2.056359\n",
       "                        ...   \n",
       "Gotland                    NaN\n",
       "Kernow                     NaN\n",
       "Monaco                     NaN\n",
       "Surrey                     NaN\n",
       "Vatican City               NaN\n",
       "Length: 272, dtype: float64"
      ]
     },
     "execution_count": 8,
     "metadata": {},
     "output_type": "execute_result"
    }
   ],
   "source": [
    "prior_score_att.sort_values(ascending=False)"
   ]
  },
  {
   "cell_type": "code",
   "execution_count": 9,
   "metadata": {},
   "outputs": [
    {
     "data": {
      "text/plain": [
       "Tuvalu            3.019104\n",
       "Tonga             2.888711\n",
       "Saint Helena      2.627924\n",
       "Samoa             2.627924\n",
       "Chagos Islands    2.517287\n",
       "                    ...   \n",
       "Gotland                NaN\n",
       "Kernow                 NaN\n",
       "Monaco                 NaN\n",
       "Surrey                 NaN\n",
       "Vatican City           NaN\n",
       "Length: 272, dtype: float64"
      ]
     },
     "execution_count": 9,
     "metadata": {},
     "output_type": "execute_result"
    }
   ],
   "source": [
    "prior_score_def.sort_values(ascending=False)"
   ]
  },
  {
   "cell_type": "code",
   "execution_count": 10,
   "metadata": {},
   "outputs": [
    {
     "data": {
      "text/plain": [
       "4514"
      ]
     },
     "execution_count": 10,
     "metadata": {},
     "output_type": "execute_result"
    }
   ],
   "source": [
    "ngames = len(data)\n",
    "ngames"
   ]
  },
  {
   "cell_type": "code",
   "execution_count": 11,
   "metadata": {},
   "outputs": [],
   "source": [
    "team1 = data.loc[:, \"home_team\"]\n",
    "score1 = data.loc[:, \"home_score\"]\n",
    "\n",
    "team2 = data.loc[:, \"away_team\"]\n",
    "score2 = data.loc[:, \"away_score\"]"
   ]
  },
  {
   "cell_type": "code",
   "execution_count": 12,
   "metadata": {},
   "outputs": [],
   "source": [
    "prior_score = prior_score_att.copy()\n",
    "prior_score[:] = 0"
   ]
  },
  {
   "cell_type": "code",
   "execution_count": 21,
   "metadata": {},
   "outputs": [],
   "source": [
    "stan_code = \"\"\"\n",
    "data{\n",
    "  int nteams;\n",
    "  int ngames;\n",
    "  int team1[ngames];\n",
    "  int team2[ngames];\n",
    "  int score1[ngames];\n",
    "  int score2[ngames];\n",
    "  vector[nteams] prior_score_att;\n",
    "  vector[nteams] prior_score_def;\n",
    "  //vector[nteams] prior_score;\n",
    "}\n",
    "parameters{\n",
    "  //real b;\n",
    "  real<lower=0.5> c;\n",
    "  real<lower=0.5> d;\n",
    "  \n",
    "  vector[nteams] e_att;\n",
    "  vector[nteams] e_def;\n",
    "  \n",
    "  real<lower=0> sigma_att;\n",
    "  real<lower=0> sigma_def;\n",
    "  \n",
    "  //real mu;\n",
    "  real mu_att;\n",
    "  \n",
    "  real mu_def;\n",
    "  \n",
    "}\n",
    "transformed parameters{\n",
    "  vector[ngames] theta1_log;\n",
    "  vector[ngames] theta2_log;\n",
    "  \n",
    "  vector[nteams] att;\n",
    "  vector[nteams] def;\n",
    "  \n",
    "  \n",
    "  for(t in 1:nteams){\n",
    "    att[t] = +mu_att\n",
    "             +c*prior_score_att[t]\n",
    "             //+b*prior_score[t]\n",
    "             +sigma_att*e_att[t];\n",
    "    \n",
    "    def[t] = -mu_def\n",
    "             -d*prior_score_def[t]\n",
    "             +sigma_def*e_def[t];\n",
    "             //-b*prior_score[t];\n",
    "    }\n",
    "  \n",
    "  for (n in 1:ngames){\n",
    "    theta1_log[n] = +att[team1[n]]\n",
    "                    +def[team2[n]];\n",
    "\n",
    "    theta2_log[n] = +att[team2[n]]\n",
    "                    +def[team1[n]]; \n",
    "  }\n",
    "}\n",
    "model{\n",
    "    score1 ~ poisson_log(theta1_log);\n",
    "    score2 ~ poisson_log(theta2_log);\n",
    "  \n",
    "    e_att ~ normal(0,1);\n",
    "    e_def ~ normal(0,1);\n",
    "    \n",
    "    mu_att ~ normal(0,1);\n",
    "    mu_def ~ normal(0,1);\n",
    "    \n",
    "    sigma_att ~ student_t(3, 0, 3);\n",
    "    sigma_def ~ student_t(3, 0, 3);\n",
    "}\n",
    "generated quantities{\n",
    "    int score1_rep[ngames];\n",
    "    int score2_rep[ngames];\n",
    "\n",
    "  \n",
    "  \n",
    "    for (n in 1:ngames){\n",
    "        score1_rep[n] = poisson_log_rng(theta1_log[n]);\n",
    "        score2_rep[n] = poisson_log_rng(theta2_log[n]);\n",
    "    }\n",
    "  \n",
    "}\n",
    "\"\"\""
   ]
  },
  {
   "cell_type": "code",
   "execution_count": 22,
   "metadata": {},
   "outputs": [],
   "source": [
    "import os\n",
    "import pickle\n",
    "import gzip\n"
   ]
  },
  {
   "cell_type": "code",
   "execution_count": 23,
   "metadata": {},
   "outputs": [],
   "source": [
    "from hashlib import md5"
   ]
  },
  {
   "cell_type": "code",
   "execution_count": 24,
   "metadata": {},
   "outputs": [],
   "source": [
    "md5_str = md5(stan_code.encode(\"utf-8\")).hexdigest()"
   ]
  },
  {
   "cell_type": "code",
   "execution_count": 25,
   "metadata": {},
   "outputs": [
    {
     "data": {
      "text/plain": [
       "cmdstanpy.model.CmdStanModel"
      ]
     },
     "execution_count": 25,
     "metadata": {},
     "output_type": "execute_result"
    }
   ],
   "source": [
    "cmdstanpy.CmdStanModel"
   ]
  },
  {
   "cell_type": "code",
   "execution_count": 26,
   "metadata": {},
   "outputs": [],
   "source": [
    "stan_file = \"euro_2021_2.stan\"\n",
    "with open(stan_file, \"w\") as f:\n",
    "    print(stan_code, file=f)"
   ]
  },
  {
   "cell_type": "code",
   "execution_count": 27,
   "metadata": {},
   "outputs": [
    {
     "name": "stderr",
     "output_type": "stream",
     "text": [
      "INFO:cmdstanpy:compiling stan program, exe file: C:/Users/harti/Dropbox/Ari/Euro2021/euro_2021_2.exe\n",
      "INFO:cmdstanpy:compiler options: stanc_options=None, cpp_options=None\n",
      "INFO:cmdstanpy:compiled model file: C:/Users/harti/Dropbox/Ari/Euro2021/euro_2021_2.exe\n"
     ]
    },
    {
     "name": "stdout",
     "output_type": "stream",
     "text": [
      "Wall time: 42 s\n"
     ]
    }
   ],
   "source": [
    "%time stan_model = cmdstanpy.CmdStanModel(model_name=\"euro_2021\", stan_file=stan_file)"
   ]
  },
  {
   "cell_type": "code",
   "execution_count": 28,
   "metadata": {},
   "outputs": [
    {
     "data": {
      "text/plain": [
       "9"
      ]
     },
     "execution_count": 28,
     "metadata": {},
     "output_type": "execute_result"
    }
   ],
   "source": [
    "prior_score_att.isnull().sum()"
   ]
  },
  {
   "cell_type": "code",
   "execution_count": 29,
   "metadata": {},
   "outputs": [],
   "source": [
    "teams_order = prior_score.copy()\n",
    "teams_order[:] = np.arange(1, teams_order.shape[0]+1)"
   ]
  },
  {
   "cell_type": "code",
   "execution_count": 30,
   "metadata": {},
   "outputs": [
    {
     "data": {
      "text/plain": [
       "Abkhazia           1\n",
       "Afghanistan        2\n",
       "Albania            3\n",
       "Alderney           4\n",
       "Algeria            5\n",
       "                ... \n",
       "Yorkshire        268\n",
       "Zambia           269\n",
       "Zanzibar         270\n",
       "Zimbabwe         271\n",
       "Åland Islands    272\n",
       "Length: 272, dtype: int32"
      ]
     },
     "execution_count": 30,
     "metadata": {},
     "output_type": "execute_result"
    }
   ],
   "source": [
    "teams_order"
   ]
  },
  {
   "cell_type": "code",
   "execution_count": 31,
   "metadata": {},
   "outputs": [],
   "source": [
    "team1_ = team1.apply(lambda x: teams_order.loc[x])\n",
    "team2_ = team2.apply(lambda x: teams_order.loc[x])"
   ]
  },
  {
   "cell_type": "code",
   "execution_count": 32,
   "metadata": {},
   "outputs": [],
   "source": [
    "prior_score_ = prior_score[teams_order.index].fillna(0)\n",
    "prior_score_att_ = prior_score_att[teams_order.index].fillna(prior_score_att.min()-0.5)\n",
    "prior_score_def_ = prior_score_def[teams_order.index].fillna(prior_score_def.max()+0.5)"
   ]
  },
  {
   "cell_type": "code",
   "execution_count": 33,
   "metadata": {},
   "outputs": [],
   "source": [
    "stan_data = dict(\n",
    "    nteams = nteams,\n",
    "    ngames = ngames,\n",
    "    \n",
    "    team1 = team1_.values.tolist(),\n",
    "    score1 = score1.values.tolist(),\n",
    "    \n",
    "    team2 = team2_.values.tolist(),\n",
    "    score2 = score2.values.tolist(),\n",
    "    \n",
    "    prior_score_att = prior_score_att_.values.tolist(),\n",
    "    prior_score_def = prior_score_def_.values.tolist(),\n",
    "    #prior_score = prior_score_.values.tolist(),\n",
    ")"
   ]
  },
  {
   "cell_type": "code",
   "execution_count": 35,
   "metadata": {},
   "outputs": [],
   "source": [
    "import json\n",
    "with open(\"euro_2021_2.json\", \"w\") as f:\n",
    "    json.dump(stan_data, f)"
   ]
  },
  {
   "cell_type": "code",
   "execution_count": 36,
   "metadata": {},
   "outputs": [
    {
     "name": "stderr",
     "output_type": "stream",
     "text": [
      "Chain 1 -   done: 100%|█████████████████████| 10000/10000 [27:02<00:00,  6.16it/s]\n"
     ]
    },
    {
     "name": "stdout",
     "output_type": "stream",
     "text": [
      "Wall time: 27min 8s\n"
     ]
    }
   ],
   "source": [
    "%%time\n",
    "fit = stan_model.sample(data=\"euro_2021_2.json\", iter_warmup=5000, iter_sampling=5000, chains=1, show_progress=True)"
   ]
  },
  {
   "cell_type": "code",
   "execution_count": 37,
   "metadata": {},
   "outputs": [
    {
     "name": "stderr",
     "output_type": "stream",
     "text": [
      "Chain 1 -   done: 100%|█████████████████████| 10000/10000 [23:20<00:00,  7.14it/s]\n"
     ]
    },
    {
     "name": "stdout",
     "output_type": "stream",
     "text": [
      "Wall time: 23min 26s\n"
     ]
    }
   ],
   "source": [
    "%%time\n",
    "fit2 = stan_model.sample(data=\"euro_2021_2.json\", iter_warmup=5000, iter_sampling=5000, chains=1, show_progress=True)"
   ]
  },
  {
   "cell_type": "code",
   "execution_count": 38,
   "metadata": {},
   "outputs": [
    {
     "name": "stderr",
     "output_type": "stream",
     "text": [
      "Chain 1 -   done: 100%|█████████████████████| 10000/10000 [22:52<00:00,  7.28it/s]\n"
     ]
    },
    {
     "name": "stdout",
     "output_type": "stream",
     "text": [
      "Wall time: 22min 59s\n"
     ]
    }
   ],
   "source": [
    "%%time\n",
    "fit3 = stan_model.sample(data=\"euro_2021_2.json\", iter_warmup=5000, iter_sampling=5000, chains=1, show_progress=True)"
   ]
  },
  {
   "cell_type": "code",
   "execution_count": 39,
   "metadata": {},
   "outputs": [
    {
     "name": "stderr",
     "output_type": "stream",
     "text": [
      "Chain 1 -   done: 100%|█████████████████████| 10000/10000 [23:34<00:00,  7.07it/s]\n"
     ]
    },
    {
     "name": "stdout",
     "output_type": "stream",
     "text": [
      "Wall time: 23min 41s\n"
     ]
    }
   ],
   "source": [
    "%%time\n",
    "fit4 = stan_model.sample(data=\"euro_2021_2.json\", iter_warmup=5000, iter_sampling=5000, chains=1, show_progress=True)"
   ]
  },
  {
   "cell_type": "code",
   "execution_count": 40,
   "metadata": {},
   "outputs": [
    {
     "name": "stderr",
     "output_type": "stream",
     "text": [
      "Chain 1 -   done: 100%|█████████████████████| 10000/10000 [23:35<00:00,  7.06it/s]\n"
     ]
    },
    {
     "name": "stdout",
     "output_type": "stream",
     "text": [
      "Wall time: 23min 42s\n"
     ]
    }
   ],
   "source": [
    "%%time\n",
    "fit5 = stan_model.sample(data=\"euro_2021_2.json\", iter_warmup=5000, iter_sampling=5000, chains=1, show_progress=True)"
   ]
  },
  {
   "cell_type": "code",
   "execution_count": 41,
   "metadata": {},
   "outputs": [
    {
     "name": "stderr",
     "output_type": "stream",
     "text": [
      "Chain 1 -   done: 100%|█████████████████████| 10000/10000 [23:08<00:00,  7.20it/s]\n"
     ]
    },
    {
     "name": "stdout",
     "output_type": "stream",
     "text": [
      "Wall time: 23min 14s\n"
     ]
    }
   ],
   "source": [
    "%%time\n",
    "fit6 = stan_model.sample(data=\"euro_2021_2.json\", iter_warmup=5000, iter_sampling=5000, chains=1, show_progress=True)"
   ]
  },
  {
   "cell_type": "code",
   "execution_count": 42,
   "metadata": {},
   "outputs": [
    {
     "name": "stderr",
     "output_type": "stream",
     "text": [
      "Chain 1 -   done: 100%|█████████████████████| 10000/10000 [23:22<00:00,  7.13it/s]\n"
     ]
    },
    {
     "name": "stdout",
     "output_type": "stream",
     "text": [
      "Wall time: 23min 29s\n"
     ]
    }
   ],
   "source": [
    "%%time\n",
    "fit7 = stan_model.sample(data=\"euro_2021_2.json\", iter_warmup=5000, iter_sampling=5000, chains=1, show_progress=True)"
   ]
  },
  {
   "cell_type": "code",
   "execution_count": 43,
   "metadata": {},
   "outputs": [
    {
     "name": "stderr",
     "output_type": "stream",
     "text": [
      "Chain 1 -   done: 100%|█████████████████████| 10000/10000 [23:17<00:00,  7.16it/s]\n"
     ]
    },
    {
     "name": "stdout",
     "output_type": "stream",
     "text": [
      "Wall time: 23min 23s\n"
     ]
    }
   ],
   "source": [
    "%%time\n",
    "fit8 = stan_model.sample(data=\"euro_2021_2.json\", iter_warmup=5000, iter_sampling=5000, chains=1, show_progress=True)"
   ]
  },
  {
   "cell_type": "code",
   "execution_count": 44,
   "metadata": {},
   "outputs": [],
   "source": [
    "matches = pd.concat((team1, team2), axis=1).apply(lambda x: \" - \".join(x), axis=1).tolist()"
   ]
  },
  {
   "cell_type": "code",
   "execution_count": 45,
   "metadata": {},
   "outputs": [],
   "source": [
    "import arviz as az"
   ]
  },
  {
   "cell_type": "code",
   "execution_count": 46,
   "metadata": {},
   "outputs": [
    {
     "name": "stdout",
     "output_type": "stream",
     "text": [
      "Wall time: 8min 3s\n"
     ]
    }
   ],
   "source": [
    "%%time\n",
    "idata = az.concat(\n",
    "    [\n",
    "        az.from_cmdstanpy(\n",
    "            posterior=fit_, \n",
    "            posterior_predictive=[\"score1_rep\", \"score2_rep\"], \n",
    "            dtypes=stan_model, \n",
    "            coords={\"team\": teams_order.index.tolist(), \"match\": matches},\n",
    "            dims={\n",
    "                \"att\": [\"team\"],\n",
    "                \"def\": [\"team\"],\n",
    "                \"e_att\": [\"team\"],\n",
    "                \"e_def\": [\"team\"],\n",
    "                \"theta1_log\": [\"match\"],\n",
    "                \"theta2_log\": [\"match\"],\n",
    "                \"score1_rep\": [\"match\"],\n",
    "                \"score2_rep\": [\"match\"]\n",
    "            }) for fit_ in [fit, fit2, fit3, fit4, fit5, fit6, fit7, fit8]\n",
    "    ], \n",
    "    dim=\"chain\")"
   ]
  },
  {
   "cell_type": "code",
   "execution_count": 47,
   "metadata": {},
   "outputs": [
    {
     "data": {
      "text/plain": [
       "'euro_2021_2_posterior.nc'"
      ]
     },
     "execution_count": 47,
     "metadata": {},
     "output_type": "execute_result"
    }
   ],
   "source": [
    "idata.to_netcdf(\"euro_2021_2_posterior.nc\")"
   ]
  },
  {
   "cell_type": "code",
   "execution_count": 48,
   "metadata": {},
   "outputs": [],
   "source": [
    "with open(\"euro2021_matches.json\", \"r\") as f:\n",
    "    new_data = json.load(f)"
   ]
  },
  {
   "cell_type": "code",
   "execution_count": 49,
   "metadata": {},
   "outputs": [],
   "source": [
    "euro_teams = new_data[\"teams\"]"
   ]
  },
  {
   "cell_type": "code",
   "execution_count": 50,
   "metadata": {},
   "outputs": [
    {
     "data": {
      "text/plain": [
       "['Ukraine',\n",
       " 'Czech Republic',\n",
       " 'Spain',\n",
       " 'Denmark',\n",
       " 'Belgium',\n",
       " 'Poland',\n",
       " 'France',\n",
       " 'Slovakia',\n",
       " 'Sweden',\n",
       " 'Croatia',\n",
       " 'Turkey',\n",
       " 'Hungary',\n",
       " 'Finland',\n",
       " 'Wales',\n",
       " 'Netherlands',\n",
       " 'Russia',\n",
       " 'Austria',\n",
       " 'Scotland',\n",
       " 'Germany',\n",
       " 'Switzerland',\n",
       " 'Italy',\n",
       " 'England',\n",
       " 'Portugal',\n",
       " 'North Macedonia']"
      ]
     },
     "execution_count": 50,
     "metadata": {},
     "output_type": "execute_result"
    }
   ],
   "source": [
    "euro_teams"
   ]
  },
  {
   "cell_type": "code",
   "execution_count": 51,
   "metadata": {},
   "outputs": [],
   "source": [
    "att_summary = az.summary(idata.posterior[\"att\"].sel(indexers={\"team\": euro_teams}))\n",
    "def_summary = az.summary(idata.posterior[\"def\"].sel(indexers={\"team\": euro_teams}))"
   ]
  },
  {
   "cell_type": "code",
   "execution_count": 52,
   "metadata": {},
   "outputs": [
    {
     "data": {
      "text/html": [
       "<div>\n",
       "<style scoped>\n",
       "    .dataframe tbody tr th:only-of-type {\n",
       "        vertical-align: middle;\n",
       "    }\n",
       "\n",
       "    .dataframe tbody tr th {\n",
       "        vertical-align: top;\n",
       "    }\n",
       "\n",
       "    .dataframe thead th {\n",
       "        text-align: right;\n",
       "    }\n",
       "</style>\n",
       "<table border=\"1\" class=\"dataframe\">\n",
       "  <thead>\n",
       "    <tr style=\"text-align: right;\">\n",
       "      <th></th>\n",
       "      <th>mean</th>\n",
       "      <th>sd</th>\n",
       "      <th>hdi_3%</th>\n",
       "      <th>hdi_97%</th>\n",
       "      <th>mcse_mean</th>\n",
       "      <th>mcse_sd</th>\n",
       "      <th>ess_bulk</th>\n",
       "      <th>ess_tail</th>\n",
       "      <th>r_hat</th>\n",
       "    </tr>\n",
       "  </thead>\n",
       "  <tbody>\n",
       "    <tr>\n",
       "      <th>att[Belgium]</th>\n",
       "      <td>1.265</td>\n",
       "      <td>0.721</td>\n",
       "      <td>-0.121</td>\n",
       "      <td>2.604</td>\n",
       "      <td>0.003</td>\n",
       "      <td>0.003</td>\n",
       "      <td>42472.0</td>\n",
       "      <td>31110.0</td>\n",
       "      <td>1.0</td>\n",
       "    </tr>\n",
       "    <tr>\n",
       "      <th>att[Spain]</th>\n",
       "      <td>1.249</td>\n",
       "      <td>0.722</td>\n",
       "      <td>-0.108</td>\n",
       "      <td>2.607</td>\n",
       "      <td>0.003</td>\n",
       "      <td>0.003</td>\n",
       "      <td>42500.0</td>\n",
       "      <td>31211.0</td>\n",
       "      <td>1.0</td>\n",
       "    </tr>\n",
       "    <tr>\n",
       "      <th>att[Germany]</th>\n",
       "      <td>1.170</td>\n",
       "      <td>0.721</td>\n",
       "      <td>-0.223</td>\n",
       "      <td>2.496</td>\n",
       "      <td>0.003</td>\n",
       "      <td>0.003</td>\n",
       "      <td>42496.0</td>\n",
       "      <td>31085.0</td>\n",
       "      <td>1.0</td>\n",
       "    </tr>\n",
       "    <tr>\n",
       "      <th>att[France]</th>\n",
       "      <td>1.100</td>\n",
       "      <td>0.722</td>\n",
       "      <td>-0.237</td>\n",
       "      <td>2.488</td>\n",
       "      <td>0.004</td>\n",
       "      <td>0.003</td>\n",
       "      <td>42311.0</td>\n",
       "      <td>31063.0</td>\n",
       "      <td>1.0</td>\n",
       "    </tr>\n",
       "    <tr>\n",
       "      <th>att[Netherlands]</th>\n",
       "      <td>1.073</td>\n",
       "      <td>0.723</td>\n",
       "      <td>-0.294</td>\n",
       "      <td>2.441</td>\n",
       "      <td>0.004</td>\n",
       "      <td>0.003</td>\n",
       "      <td>42650.0</td>\n",
       "      <td>30681.0</td>\n",
       "      <td>1.0</td>\n",
       "    </tr>\n",
       "    <tr>\n",
       "      <th>att[Portugal]</th>\n",
       "      <td>1.037</td>\n",
       "      <td>0.722</td>\n",
       "      <td>-0.311</td>\n",
       "      <td>2.421</td>\n",
       "      <td>0.003</td>\n",
       "      <td>0.003</td>\n",
       "      <td>42634.0</td>\n",
       "      <td>30883.0</td>\n",
       "      <td>1.0</td>\n",
       "    </tr>\n",
       "    <tr>\n",
       "      <th>att[England]</th>\n",
       "      <td>1.004</td>\n",
       "      <td>0.722</td>\n",
       "      <td>-0.349</td>\n",
       "      <td>2.381</td>\n",
       "      <td>0.003</td>\n",
       "      <td>0.003</td>\n",
       "      <td>42673.0</td>\n",
       "      <td>31580.0</td>\n",
       "      <td>1.0</td>\n",
       "    </tr>\n",
       "    <tr>\n",
       "      <th>att[Italy]</th>\n",
       "      <td>0.931</td>\n",
       "      <td>0.723</td>\n",
       "      <td>-0.419</td>\n",
       "      <td>2.303</td>\n",
       "      <td>0.004</td>\n",
       "      <td>0.003</td>\n",
       "      <td>42475.0</td>\n",
       "      <td>30401.0</td>\n",
       "      <td>1.0</td>\n",
       "    </tr>\n",
       "    <tr>\n",
       "      <th>att[Denmark]</th>\n",
       "      <td>0.883</td>\n",
       "      <td>0.723</td>\n",
       "      <td>-0.523</td>\n",
       "      <td>2.205</td>\n",
       "      <td>0.003</td>\n",
       "      <td>0.003</td>\n",
       "      <td>42898.0</td>\n",
       "      <td>31318.0</td>\n",
       "      <td>1.0</td>\n",
       "    </tr>\n",
       "    <tr>\n",
       "      <th>att[Croatia]</th>\n",
       "      <td>0.837</td>\n",
       "      <td>0.724</td>\n",
       "      <td>-0.536</td>\n",
       "      <td>2.196</td>\n",
       "      <td>0.004</td>\n",
       "      <td>0.003</td>\n",
       "      <td>42725.0</td>\n",
       "      <td>31089.0</td>\n",
       "      <td>1.0</td>\n",
       "    </tr>\n",
       "    <tr>\n",
       "      <th>att[Switzerland]</th>\n",
       "      <td>0.824</td>\n",
       "      <td>0.724</td>\n",
       "      <td>-0.531</td>\n",
       "      <td>2.213</td>\n",
       "      <td>0.004</td>\n",
       "      <td>0.003</td>\n",
       "      <td>42654.0</td>\n",
       "      <td>30819.0</td>\n",
       "      <td>1.0</td>\n",
       "    </tr>\n",
       "    <tr>\n",
       "      <th>att[Poland]</th>\n",
       "      <td>0.824</td>\n",
       "      <td>0.724</td>\n",
       "      <td>-0.539</td>\n",
       "      <td>2.191</td>\n",
       "      <td>0.003</td>\n",
       "      <td>0.003</td>\n",
       "      <td>43036.0</td>\n",
       "      <td>30709.0</td>\n",
       "      <td>1.0</td>\n",
       "    </tr>\n",
       "    <tr>\n",
       "      <th>att[Russia]</th>\n",
       "      <td>0.814</td>\n",
       "      <td>0.723</td>\n",
       "      <td>-0.539</td>\n",
       "      <td>2.197</td>\n",
       "      <td>0.003</td>\n",
       "      <td>0.003</td>\n",
       "      <td>42854.0</td>\n",
       "      <td>31319.0</td>\n",
       "      <td>1.0</td>\n",
       "    </tr>\n",
       "    <tr>\n",
       "      <th>att[Sweden]</th>\n",
       "      <td>0.689</td>\n",
       "      <td>0.724</td>\n",
       "      <td>-0.672</td>\n",
       "      <td>2.067</td>\n",
       "      <td>0.004</td>\n",
       "      <td>0.003</td>\n",
       "      <td>42624.0</td>\n",
       "      <td>31334.0</td>\n",
       "      <td>1.0</td>\n",
       "    </tr>\n",
       "    <tr>\n",
       "      <th>att[Czech Republic]</th>\n",
       "      <td>0.626</td>\n",
       "      <td>0.725</td>\n",
       "      <td>-0.725</td>\n",
       "      <td>2.014</td>\n",
       "      <td>0.004</td>\n",
       "      <td>0.003</td>\n",
       "      <td>42613.0</td>\n",
       "      <td>31649.0</td>\n",
       "      <td>1.0</td>\n",
       "    </tr>\n",
       "    <tr>\n",
       "      <th>att[Austria]</th>\n",
       "      <td>0.596</td>\n",
       "      <td>0.727</td>\n",
       "      <td>-0.746</td>\n",
       "      <td>1.997</td>\n",
       "      <td>0.003</td>\n",
       "      <td>0.003</td>\n",
       "      <td>43099.0</td>\n",
       "      <td>30644.0</td>\n",
       "      <td>1.0</td>\n",
       "    </tr>\n",
       "    <tr>\n",
       "      <th>att[Turkey]</th>\n",
       "      <td>0.588</td>\n",
       "      <td>0.724</td>\n",
       "      <td>-0.780</td>\n",
       "      <td>1.952</td>\n",
       "      <td>0.003</td>\n",
       "      <td>0.003</td>\n",
       "      <td>42830.0</td>\n",
       "      <td>31081.0</td>\n",
       "      <td>1.0</td>\n",
       "    </tr>\n",
       "    <tr>\n",
       "      <th>att[Ukraine]</th>\n",
       "      <td>0.586</td>\n",
       "      <td>0.727</td>\n",
       "      <td>-0.807</td>\n",
       "      <td>1.934</td>\n",
       "      <td>0.003</td>\n",
       "      <td>0.003</td>\n",
       "      <td>43300.0</td>\n",
       "      <td>30741.0</td>\n",
       "      <td>1.0</td>\n",
       "    </tr>\n",
       "    <tr>\n",
       "      <th>att[Slovakia]</th>\n",
       "      <td>0.580</td>\n",
       "      <td>0.727</td>\n",
       "      <td>-0.777</td>\n",
       "      <td>1.967</td>\n",
       "      <td>0.004</td>\n",
       "      <td>0.003</td>\n",
       "      <td>43113.0</td>\n",
       "      <td>30710.0</td>\n",
       "      <td>1.0</td>\n",
       "    </tr>\n",
       "    <tr>\n",
       "      <th>att[North Macedonia]</th>\n",
       "      <td>0.448</td>\n",
       "      <td>0.726</td>\n",
       "      <td>-0.916</td>\n",
       "      <td>1.824</td>\n",
       "      <td>0.003</td>\n",
       "      <td>0.003</td>\n",
       "      <td>43179.0</td>\n",
       "      <td>31220.0</td>\n",
       "      <td>1.0</td>\n",
       "    </tr>\n",
       "    <tr>\n",
       "      <th>att[Wales]</th>\n",
       "      <td>0.440</td>\n",
       "      <td>0.729</td>\n",
       "      <td>-0.945</td>\n",
       "      <td>1.806</td>\n",
       "      <td>0.004</td>\n",
       "      <td>0.003</td>\n",
       "      <td>42974.0</td>\n",
       "      <td>31162.0</td>\n",
       "      <td>1.0</td>\n",
       "    </tr>\n",
       "    <tr>\n",
       "      <th>att[Scotland]</th>\n",
       "      <td>0.392</td>\n",
       "      <td>0.728</td>\n",
       "      <td>-0.991</td>\n",
       "      <td>1.760</td>\n",
       "      <td>0.003</td>\n",
       "      <td>0.003</td>\n",
       "      <td>43405.0</td>\n",
       "      <td>31746.0</td>\n",
       "      <td>1.0</td>\n",
       "    </tr>\n",
       "    <tr>\n",
       "      <th>att[Hungary]</th>\n",
       "      <td>0.357</td>\n",
       "      <td>0.727</td>\n",
       "      <td>-1.031</td>\n",
       "      <td>1.711</td>\n",
       "      <td>0.004</td>\n",
       "      <td>0.003</td>\n",
       "      <td>42958.0</td>\n",
       "      <td>31067.0</td>\n",
       "      <td>1.0</td>\n",
       "    </tr>\n",
       "    <tr>\n",
       "      <th>att[Finland]</th>\n",
       "      <td>0.296</td>\n",
       "      <td>0.727</td>\n",
       "      <td>-1.092</td>\n",
       "      <td>1.660</td>\n",
       "      <td>0.004</td>\n",
       "      <td>0.003</td>\n",
       "      <td>42784.0</td>\n",
       "      <td>31321.0</td>\n",
       "      <td>1.0</td>\n",
       "    </tr>\n",
       "  </tbody>\n",
       "</table>\n",
       "</div>"
      ],
      "text/plain": [
       "                       mean     sd  hdi_3%  hdi_97%  mcse_mean  mcse_sd  \\\n",
       "att[Belgium]          1.265  0.721  -0.121    2.604      0.003    0.003   \n",
       "att[Spain]            1.249  0.722  -0.108    2.607      0.003    0.003   \n",
       "att[Germany]          1.170  0.721  -0.223    2.496      0.003    0.003   \n",
       "att[France]           1.100  0.722  -0.237    2.488      0.004    0.003   \n",
       "att[Netherlands]      1.073  0.723  -0.294    2.441      0.004    0.003   \n",
       "att[Portugal]         1.037  0.722  -0.311    2.421      0.003    0.003   \n",
       "att[England]          1.004  0.722  -0.349    2.381      0.003    0.003   \n",
       "att[Italy]            0.931  0.723  -0.419    2.303      0.004    0.003   \n",
       "att[Denmark]          0.883  0.723  -0.523    2.205      0.003    0.003   \n",
       "att[Croatia]          0.837  0.724  -0.536    2.196      0.004    0.003   \n",
       "att[Switzerland]      0.824  0.724  -0.531    2.213      0.004    0.003   \n",
       "att[Poland]           0.824  0.724  -0.539    2.191      0.003    0.003   \n",
       "att[Russia]           0.814  0.723  -0.539    2.197      0.003    0.003   \n",
       "att[Sweden]           0.689  0.724  -0.672    2.067      0.004    0.003   \n",
       "att[Czech Republic]   0.626  0.725  -0.725    2.014      0.004    0.003   \n",
       "att[Austria]          0.596  0.727  -0.746    1.997      0.003    0.003   \n",
       "att[Turkey]           0.588  0.724  -0.780    1.952      0.003    0.003   \n",
       "att[Ukraine]          0.586  0.727  -0.807    1.934      0.003    0.003   \n",
       "att[Slovakia]         0.580  0.727  -0.777    1.967      0.004    0.003   \n",
       "att[North Macedonia]  0.448  0.726  -0.916    1.824      0.003    0.003   \n",
       "att[Wales]            0.440  0.729  -0.945    1.806      0.004    0.003   \n",
       "att[Scotland]         0.392  0.728  -0.991    1.760      0.003    0.003   \n",
       "att[Hungary]          0.357  0.727  -1.031    1.711      0.004    0.003   \n",
       "att[Finland]          0.296  0.727  -1.092    1.660      0.004    0.003   \n",
       "\n",
       "                      ess_bulk  ess_tail  r_hat  \n",
       "att[Belgium]           42472.0   31110.0    1.0  \n",
       "att[Spain]             42500.0   31211.0    1.0  \n",
       "att[Germany]           42496.0   31085.0    1.0  \n",
       "att[France]            42311.0   31063.0    1.0  \n",
       "att[Netherlands]       42650.0   30681.0    1.0  \n",
       "att[Portugal]          42634.0   30883.0    1.0  \n",
       "att[England]           42673.0   31580.0    1.0  \n",
       "att[Italy]             42475.0   30401.0    1.0  \n",
       "att[Denmark]           42898.0   31318.0    1.0  \n",
       "att[Croatia]           42725.0   31089.0    1.0  \n",
       "att[Switzerland]       42654.0   30819.0    1.0  \n",
       "att[Poland]            43036.0   30709.0    1.0  \n",
       "att[Russia]            42854.0   31319.0    1.0  \n",
       "att[Sweden]            42624.0   31334.0    1.0  \n",
       "att[Czech Republic]    42613.0   31649.0    1.0  \n",
       "att[Austria]           43099.0   30644.0    1.0  \n",
       "att[Turkey]            42830.0   31081.0    1.0  \n",
       "att[Ukraine]           43300.0   30741.0    1.0  \n",
       "att[Slovakia]          43113.0   30710.0    1.0  \n",
       "att[North Macedonia]   43179.0   31220.0    1.0  \n",
       "att[Wales]             42974.0   31162.0    1.0  \n",
       "att[Scotland]          43405.0   31746.0    1.0  \n",
       "att[Hungary]           42958.0   31067.0    1.0  \n",
       "att[Finland]           42784.0   31321.0    1.0  "
      ]
     },
     "execution_count": 52,
     "metadata": {},
     "output_type": "execute_result"
    }
   ],
   "source": [
    "att_summary.sort_values(by=\"mean\", ascending=False)"
   ]
  },
  {
   "cell_type": "code",
   "execution_count": 53,
   "metadata": {},
   "outputs": [],
   "source": [
    "order_att = att_summary.sort_values(by=\"mean\", ascending=True).index.to_series().apply(lambda x: x.replace(\"att[\", \"\").replace(\"]\", \"\")).tolist()"
   ]
  },
  {
   "cell_type": "code",
   "execution_count": 54,
   "metadata": {},
   "outputs": [
    {
     "name": "stderr",
     "output_type": "stream",
     "text": [
      "INFO:numba.core.transforms:finding looplift candidates\n"
     ]
    },
    {
     "data": {
      "text/plain": [
       "array([<matplotlib.axes._subplots.AxesSubplot object at 0x0000017160E4ADD8>],\n",
       "      dtype=object)"
      ]
     },
     "execution_count": 54,
     "metadata": {},
     "output_type": "execute_result"
    },
    {
     "data": {
      "image/png": "[encoded data removed]",
      "text/plain": [
       "<Figure size 432x1670.4 with 1 Axes>"
      ]
     },
     "metadata": {
      "needs_background": "light"
     },
     "output_type": "display_data"
    }
   ],
   "source": [
    "az.plot_forest(idata.posterior[\"att\"].sel(indexers={\"team\": order_att}))"
   ]
  },
  {
   "cell_type": "code",
   "execution_count": 55,
   "metadata": {},
   "outputs": [
    {
     "data": {
      "text/html": [
       "<div>\n",
       "<style scoped>\n",
       "    .dataframe tbody tr th:only-of-type {\n",
       "        vertical-align: middle;\n",
       "    }\n",
       "\n",
       "    .dataframe tbody tr th {\n",
       "        vertical-align: top;\n",
       "    }\n",
       "\n",
       "    .dataframe thead th {\n",
       "        text-align: right;\n",
       "    }\n",
       "</style>\n",
       "<table border=\"1\" class=\"dataframe\">\n",
       "  <thead>\n",
       "    <tr style=\"text-align: right;\">\n",
       "      <th></th>\n",
       "      <th>mean</th>\n",
       "      <th>sd</th>\n",
       "      <th>hdi_3%</th>\n",
       "      <th>hdi_97%</th>\n",
       "      <th>mcse_mean</th>\n",
       "      <th>mcse_sd</th>\n",
       "      <th>ess_bulk</th>\n",
       "      <th>ess_tail</th>\n",
       "      <th>r_hat</th>\n",
       "    </tr>\n",
       "  </thead>\n",
       "  <tbody>\n",
       "    <tr>\n",
       "      <th>def[Italy]</th>\n",
       "      <td>-1.120</td>\n",
       "      <td>0.734</td>\n",
       "      <td>-2.489</td>\n",
       "      <td>0.274</td>\n",
       "      <td>0.004</td>\n",
       "      <td>0.003</td>\n",
       "      <td>43881.0</td>\n",
       "      <td>32181.0</td>\n",
       "      <td>1.0</td>\n",
       "    </tr>\n",
       "    <tr>\n",
       "      <th>def[England]</th>\n",
       "      <td>-0.996</td>\n",
       "      <td>0.730</td>\n",
       "      <td>-2.368</td>\n",
       "      <td>0.390</td>\n",
       "      <td>0.003</td>\n",
       "      <td>0.003</td>\n",
       "      <td>43796.0</td>\n",
       "      <td>31233.0</td>\n",
       "      <td>1.0</td>\n",
       "    </tr>\n",
       "    <tr>\n",
       "      <th>def[Denmark]</th>\n",
       "      <td>-0.941</td>\n",
       "      <td>0.735</td>\n",
       "      <td>-2.280</td>\n",
       "      <td>0.488</td>\n",
       "      <td>0.004</td>\n",
       "      <td>0.003</td>\n",
       "      <td>43572.0</td>\n",
       "      <td>31654.0</td>\n",
       "      <td>1.0</td>\n",
       "    </tr>\n",
       "    <tr>\n",
       "      <th>def[Portugal]</th>\n",
       "      <td>-0.941</td>\n",
       "      <td>0.730</td>\n",
       "      <td>-2.352</td>\n",
       "      <td>0.415</td>\n",
       "      <td>0.004</td>\n",
       "      <td>0.003</td>\n",
       "      <td>43190.0</td>\n",
       "      <td>30858.0</td>\n",
       "      <td>1.0</td>\n",
       "    </tr>\n",
       "    <tr>\n",
       "      <th>def[Spain]</th>\n",
       "      <td>-0.938</td>\n",
       "      <td>0.731</td>\n",
       "      <td>-2.332</td>\n",
       "      <td>0.427</td>\n",
       "      <td>0.004</td>\n",
       "      <td>0.003</td>\n",
       "      <td>43008.0</td>\n",
       "      <td>31719.0</td>\n",
       "      <td>1.0</td>\n",
       "    </tr>\n",
       "    <tr>\n",
       "      <th>def[France]</th>\n",
       "      <td>-0.866</td>\n",
       "      <td>0.729</td>\n",
       "      <td>-2.236</td>\n",
       "      <td>0.523</td>\n",
       "      <td>0.003</td>\n",
       "      <td>0.003</td>\n",
       "      <td>43451.0</td>\n",
       "      <td>31211.0</td>\n",
       "      <td>1.0</td>\n",
       "    </tr>\n",
       "    <tr>\n",
       "      <th>def[Belgium]</th>\n",
       "      <td>-0.745</td>\n",
       "      <td>0.730</td>\n",
       "      <td>-2.151</td>\n",
       "      <td>0.607</td>\n",
       "      <td>0.004</td>\n",
       "      <td>0.003</td>\n",
       "      <td>43311.0</td>\n",
       "      <td>31197.0</td>\n",
       "      <td>1.0</td>\n",
       "    </tr>\n",
       "    <tr>\n",
       "      <th>def[Netherlands]</th>\n",
       "      <td>-0.723</td>\n",
       "      <td>0.731</td>\n",
       "      <td>-2.117</td>\n",
       "      <td>0.644</td>\n",
       "      <td>0.004</td>\n",
       "      <td>0.003</td>\n",
       "      <td>43066.0</td>\n",
       "      <td>31358.0</td>\n",
       "      <td>1.0</td>\n",
       "    </tr>\n",
       "    <tr>\n",
       "      <th>def[Switzerland]</th>\n",
       "      <td>-0.712</td>\n",
       "      <td>0.728</td>\n",
       "      <td>-2.058</td>\n",
       "      <td>0.693</td>\n",
       "      <td>0.004</td>\n",
       "      <td>0.003</td>\n",
       "      <td>43242.0</td>\n",
       "      <td>31853.0</td>\n",
       "      <td>1.0</td>\n",
       "    </tr>\n",
       "    <tr>\n",
       "      <th>def[Sweden]</th>\n",
       "      <td>-0.706</td>\n",
       "      <td>0.727</td>\n",
       "      <td>-2.096</td>\n",
       "      <td>0.650</td>\n",
       "      <td>0.004</td>\n",
       "      <td>0.003</td>\n",
       "      <td>43047.0</td>\n",
       "      <td>30919.0</td>\n",
       "      <td>1.0</td>\n",
       "    </tr>\n",
       "    <tr>\n",
       "      <th>def[Wales]</th>\n",
       "      <td>-0.695</td>\n",
       "      <td>0.731</td>\n",
       "      <td>-2.082</td>\n",
       "      <td>0.682</td>\n",
       "      <td>0.004</td>\n",
       "      <td>0.003</td>\n",
       "      <td>43189.0</td>\n",
       "      <td>31451.0</td>\n",
       "      <td>1.0</td>\n",
       "    </tr>\n",
       "    <tr>\n",
       "      <th>def[Germany]</th>\n",
       "      <td>-0.660</td>\n",
       "      <td>0.728</td>\n",
       "      <td>-2.044</td>\n",
       "      <td>0.698</td>\n",
       "      <td>0.004</td>\n",
       "      <td>0.003</td>\n",
       "      <td>42842.0</td>\n",
       "      <td>31344.0</td>\n",
       "      <td>1.0</td>\n",
       "    </tr>\n",
       "    <tr>\n",
       "      <th>def[Poland]</th>\n",
       "      <td>-0.610</td>\n",
       "      <td>0.730</td>\n",
       "      <td>-2.019</td>\n",
       "      <td>0.732</td>\n",
       "      <td>0.004</td>\n",
       "      <td>0.003</td>\n",
       "      <td>42951.0</td>\n",
       "      <td>30981.0</td>\n",
       "      <td>1.0</td>\n",
       "    </tr>\n",
       "    <tr>\n",
       "      <th>def[Croatia]</th>\n",
       "      <td>-0.507</td>\n",
       "      <td>0.725</td>\n",
       "      <td>-1.840</td>\n",
       "      <td>0.890</td>\n",
       "      <td>0.003</td>\n",
       "      <td>0.003</td>\n",
       "      <td>42930.0</td>\n",
       "      <td>31248.0</td>\n",
       "      <td>1.0</td>\n",
       "    </tr>\n",
       "    <tr>\n",
       "      <th>def[Ukraine]</th>\n",
       "      <td>-0.492</td>\n",
       "      <td>0.728</td>\n",
       "      <td>-1.832</td>\n",
       "      <td>0.922</td>\n",
       "      <td>0.004</td>\n",
       "      <td>0.003</td>\n",
       "      <td>43297.0</td>\n",
       "      <td>31175.0</td>\n",
       "      <td>1.0</td>\n",
       "    </tr>\n",
       "    <tr>\n",
       "      <th>def[Turkey]</th>\n",
       "      <td>-0.478</td>\n",
       "      <td>0.726</td>\n",
       "      <td>-1.853</td>\n",
       "      <td>0.889</td>\n",
       "      <td>0.003</td>\n",
       "      <td>0.003</td>\n",
       "      <td>43213.0</td>\n",
       "      <td>30995.0</td>\n",
       "      <td>1.0</td>\n",
       "    </tr>\n",
       "    <tr>\n",
       "      <th>def[Austria]</th>\n",
       "      <td>-0.464</td>\n",
       "      <td>0.728</td>\n",
       "      <td>-1.802</td>\n",
       "      <td>0.932</td>\n",
       "      <td>0.004</td>\n",
       "      <td>0.003</td>\n",
       "      <td>42924.0</td>\n",
       "      <td>31399.0</td>\n",
       "      <td>1.0</td>\n",
       "    </tr>\n",
       "    <tr>\n",
       "      <th>def[Slovakia]</th>\n",
       "      <td>-0.414</td>\n",
       "      <td>0.729</td>\n",
       "      <td>-1.776</td>\n",
       "      <td>0.978</td>\n",
       "      <td>0.003</td>\n",
       "      <td>0.003</td>\n",
       "      <td>43607.0</td>\n",
       "      <td>30694.0</td>\n",
       "      <td>1.0</td>\n",
       "    </tr>\n",
       "    <tr>\n",
       "      <th>def[Czech Republic]</th>\n",
       "      <td>-0.348</td>\n",
       "      <td>0.726</td>\n",
       "      <td>-1.680</td>\n",
       "      <td>1.067</td>\n",
       "      <td>0.004</td>\n",
       "      <td>0.003</td>\n",
       "      <td>42691.0</td>\n",
       "      <td>31529.0</td>\n",
       "      <td>1.0</td>\n",
       "    </tr>\n",
       "    <tr>\n",
       "      <th>def[Finland]</th>\n",
       "      <td>-0.326</td>\n",
       "      <td>0.729</td>\n",
       "      <td>-1.720</td>\n",
       "      <td>1.032</td>\n",
       "      <td>0.004</td>\n",
       "      <td>0.003</td>\n",
       "      <td>43031.0</td>\n",
       "      <td>31223.0</td>\n",
       "      <td>1.0</td>\n",
       "    </tr>\n",
       "    <tr>\n",
       "      <th>def[Russia]</th>\n",
       "      <td>-0.322</td>\n",
       "      <td>0.725</td>\n",
       "      <td>-1.627</td>\n",
       "      <td>1.113</td>\n",
       "      <td>0.003</td>\n",
       "      <td>0.003</td>\n",
       "      <td>43006.0</td>\n",
       "      <td>31116.0</td>\n",
       "      <td>1.0</td>\n",
       "    </tr>\n",
       "    <tr>\n",
       "      <th>def[Scotland]</th>\n",
       "      <td>-0.314</td>\n",
       "      <td>0.729</td>\n",
       "      <td>-1.685</td>\n",
       "      <td>1.069</td>\n",
       "      <td>0.004</td>\n",
       "      <td>0.003</td>\n",
       "      <td>43320.0</td>\n",
       "      <td>30895.0</td>\n",
       "      <td>1.0</td>\n",
       "    </tr>\n",
       "    <tr>\n",
       "      <th>def[Hungary]</th>\n",
       "      <td>-0.230</td>\n",
       "      <td>0.728</td>\n",
       "      <td>-1.609</td>\n",
       "      <td>1.147</td>\n",
       "      <td>0.004</td>\n",
       "      <td>0.003</td>\n",
       "      <td>43180.0</td>\n",
       "      <td>31080.0</td>\n",
       "      <td>1.0</td>\n",
       "    </tr>\n",
       "    <tr>\n",
       "      <th>def[North Macedonia]</th>\n",
       "      <td>-0.225</td>\n",
       "      <td>0.731</td>\n",
       "      <td>-1.593</td>\n",
       "      <td>1.157</td>\n",
       "      <td>0.004</td>\n",
       "      <td>0.003</td>\n",
       "      <td>43030.0</td>\n",
       "      <td>31277.0</td>\n",
       "      <td>1.0</td>\n",
       "    </tr>\n",
       "  </tbody>\n",
       "</table>\n",
       "</div>"
      ],
      "text/plain": [
       "                       mean     sd  hdi_3%  hdi_97%  mcse_mean  mcse_sd  \\\n",
       "def[Italy]           -1.120  0.734  -2.489    0.274      0.004    0.003   \n",
       "def[England]         -0.996  0.730  -2.368    0.390      0.003    0.003   \n",
       "def[Denmark]         -0.941  0.735  -2.280    0.488      0.004    0.003   \n",
       "def[Portugal]        -0.941  0.730  -2.352    0.415      0.004    0.003   \n",
       "def[Spain]           -0.938  0.731  -2.332    0.427      0.004    0.003   \n",
       "def[France]          -0.866  0.729  -2.236    0.523      0.003    0.003   \n",
       "def[Belgium]         -0.745  0.730  -2.151    0.607      0.004    0.003   \n",
       "def[Netherlands]     -0.723  0.731  -2.117    0.644      0.004    0.003   \n",
       "def[Switzerland]     -0.712  0.728  -2.058    0.693      0.004    0.003   \n",
       "def[Sweden]          -0.706  0.727  -2.096    0.650      0.004    0.003   \n",
       "def[Wales]           -0.695  0.731  -2.082    0.682      0.004    0.003   \n",
       "def[Germany]         -0.660  0.728  -2.044    0.698      0.004    0.003   \n",
       "def[Poland]          -0.610  0.730  -2.019    0.732      0.004    0.003   \n",
       "def[Croatia]         -0.507  0.725  -1.840    0.890      0.003    0.003   \n",
       "def[Ukraine]         -0.492  0.728  -1.832    0.922      0.004    0.003   \n",
       "def[Turkey]          -0.478  0.726  -1.853    0.889      0.003    0.003   \n",
       "def[Austria]         -0.464  0.728  -1.802    0.932      0.004    0.003   \n",
       "def[Slovakia]        -0.414  0.729  -1.776    0.978      0.003    0.003   \n",
       "def[Czech Republic]  -0.348  0.726  -1.680    1.067      0.004    0.003   \n",
       "def[Finland]         -0.326  0.729  -1.720    1.032      0.004    0.003   \n",
       "def[Russia]          -0.322  0.725  -1.627    1.113      0.003    0.003   \n",
       "def[Scotland]        -0.314  0.729  -1.685    1.069      0.004    0.003   \n",
       "def[Hungary]         -0.230  0.728  -1.609    1.147      0.004    0.003   \n",
       "def[North Macedonia] -0.225  0.731  -1.593    1.157      0.004    0.003   \n",
       "\n",
       "                      ess_bulk  ess_tail  r_hat  \n",
       "def[Italy]             43881.0   32181.0    1.0  \n",
       "def[England]           43796.0   31233.0    1.0  \n",
       "def[Denmark]           43572.0   31654.0    1.0  \n",
       "def[Portugal]          43190.0   30858.0    1.0  \n",
       "def[Spain]             43008.0   31719.0    1.0  \n",
       "def[France]            43451.0   31211.0    1.0  \n",
       "def[Belgium]           43311.0   31197.0    1.0  \n",
       "def[Netherlands]       43066.0   31358.0    1.0  \n",
       "def[Switzerland]       43242.0   31853.0    1.0  \n",
       "def[Sweden]            43047.0   30919.0    1.0  \n",
       "def[Wales]             43189.0   31451.0    1.0  \n",
       "def[Germany]           42842.0   31344.0    1.0  \n",
       "def[Poland]            42951.0   30981.0    1.0  \n",
       "def[Croatia]           42930.0   31248.0    1.0  \n",
       "def[Ukraine]           43297.0   31175.0    1.0  \n",
       "def[Turkey]            43213.0   30995.0    1.0  \n",
       "def[Austria]           42924.0   31399.0    1.0  \n",
       "def[Slovakia]          43607.0   30694.0    1.0  \n",
       "def[Czech Republic]    42691.0   31529.0    1.0  \n",
       "def[Finland]           43031.0   31223.0    1.0  \n",
       "def[Russia]            43006.0   31116.0    1.0  \n",
       "def[Scotland]          43320.0   30895.0    1.0  \n",
       "def[Hungary]           43180.0   31080.0    1.0  \n",
       "def[North Macedonia]   43030.0   31277.0    1.0  "
      ]
     },
     "execution_count": 55,
     "metadata": {},
     "output_type": "execute_result"
    }
   ],
   "source": [
    "def_summary.sort_values(by=\"mean\", ascending=True)"
   ]
  },
  {
   "cell_type": "code",
   "execution_count": 56,
   "metadata": {},
   "outputs": [],
   "source": [
    "order_def = def_summary.sort_values(by=\"mean\", ascending=True).index.to_series().apply(lambda x: x.replace(\"def[\", \"\").replace(\"]\", \"\")).tolist()"
   ]
  },
  {
   "cell_type": "code",
   "execution_count": 57,
   "metadata": {},
   "outputs": [
    {
     "name": "stderr",
     "output_type": "stream",
     "text": [
      "INFO:numba.core.transforms:finding looplift candidates\n"
     ]
    },
    {
     "data": {
      "text/plain": [
       "array([<matplotlib.axes._subplots.AxesSubplot object at 0x00000171654CCC50>],\n",
       "      dtype=object)"
      ]
     },
     "execution_count": 57,
     "metadata": {},
     "output_type": "execute_result"
    },
    {
     "data": {
      "image/png": "[encoded data removed]",
      "text/plain": [
       "<Figure size 432x1670.4 with 1 Axes>"
      ]
     },
     "metadata": {
      "needs_background": "light"
     },
     "output_type": "display_data"
    }
   ],
   "source": [
    "az.plot_forest(idata.posterior[\"def\"].sel(indexers={\"team\": order_def}))"
   ]
  },
  {
   "cell_type": "code",
   "execution_count": 58,
   "metadata": {},
   "outputs": [],
   "source": [
    "euro_matches = []\n",
    "euro_matches_stats = []\n",
    "for match in new_data[\"match\"]:\n",
    "    teamA = match[\"teamA\"]\n",
    "    teamB = match[\"teamB\"]\n",
    "    \n",
    "    att_teamA = idata.posterior[\"att\"].sel(indexers={\"team\": teamA})\n",
    "    att_teamB = idata.posterior[\"att\"].sel(indexers={\"team\": teamB})\n",
    "\n",
    "    def_teamA = idata.posterior[\"def\"].sel(indexers={\"team\": teamA})\n",
    "    def_teamB = idata.posterior[\"def\"].sel(indexers={\"team\": teamB})\n",
    "    \n",
    "    theta1_log = att_teamA + def_teamB\n",
    "    theta2_log = att_teamB + def_teamA\n",
    "    \n",
    "    score1 = np.random.poisson(np.exp(theta1_log))\n",
    "    score2 = np.random.poisson(np.exp(theta2_log))\n",
    "    \n",
    "    team1_win, draw, team2_win = (score1 > score2).mean(), (score1 == score2).mean(), (score1 < score2).mean()\n",
    "    euro_matches.append({\"teamA\": teamA, \"teamB\": teamB, \"score1\": score1, \"score2\": score2})\n",
    "    euro_matches_stats.append({\"teamA\": teamA, \"teamB\": teamB, \"team1_win\": team1_win, \"draw\": draw, \"team2_win\": team2_win})"
   ]
  },
  {
   "cell_type": "code",
   "execution_count": 59,
   "metadata": {},
   "outputs": [],
   "source": [
    "euro_stats = pd.DataFrame(euro_matches_stats)"
   ]
  },
  {
   "cell_type": "code",
   "execution_count": 60,
   "metadata": {},
   "outputs": [],
   "source": [
    "points = {}\n",
    "for team, res in euro_stats.groupby(\"teamA\"):\n",
    "    if team not in points:\n",
    "        points[team] = 0\n",
    "    points[team] += np.sum(res.loc[:, [\"team1_win\", \"draw\"]] * np.array([3, 1])).sum()\n",
    "\n",
    "for team, res in euro_stats.groupby(\"teamB\"):\n",
    "    if team not in points:\n",
    "        points[team] = 0\n",
    "    points[team] += np.sum(res.loc[:, [\"team2_win\", \"draw\"]] * np.array([3, 1])).sum()"
   ]
  },
  {
   "cell_type": "code",
   "execution_count": 61,
   "metadata": {},
   "outputs": [],
   "source": [
    "gathered_points = pd.Series(points).sort_values(ascending=False)"
   ]
  },
  {
   "cell_type": "code",
   "execution_count": 62,
   "metadata": {},
   "outputs": [],
   "source": [
    "groups = {\n",
    "    \"A\": [\"Turkey\", \"Italy\", \"Wales\", \"Switzerland\"],\n",
    "    \"B\": [\"Denmark\", \"Finland\", \"Belgium\", \"Russia\"],\n",
    "    \"C\": [\"Netherlands\", \"Ukraine\", \"Austria\", \"North Macedonia\"],\n",
    "    \"D\": [\"England\", \"Croatia\", \"Czech Republic\", \"Scotland\"],\n",
    "    \"E\": [\"Spain\", \"Sweden\", \"Poland\", \"Slovakia\"],\n",
    "    \"F\": [\"Portugal\", \"France\", \"Germany\", \"Hungary\"],\n",
    "}"
   ]
  },
  {
   "cell_type": "code",
   "execution_count": 63,
   "metadata": {},
   "outputs": [
    {
     "name": "stdout",
     "output_type": "stream",
     "text": [
      "Group A\n",
      "Italy          5.79\n",
      "Switzerland    4.37\n",
      "Wales          3.18\n",
      "Turkey         2.94\n",
      "\n",
      "Group B\n",
      "Belgium    6.28\n",
      "Denmark    5.41\n",
      "Russia     3.21\n",
      "Finland    1.84\n",
      "\n",
      "Group C\n",
      "Netherlands        6.34\n",
      "Ukraine            3.87\n",
      "Austria            3.81\n",
      "North Macedonia    2.55\n",
      "\n",
      "Group D\n",
      "England           6.46\n",
      "Croatia           4.48\n",
      "Czech Republic    3.22\n",
      "Scotland          2.45\n",
      "\n",
      "Group E\n",
      "Spain       6.43\n",
      "Poland      3.86\n",
      "Sweden      3.74\n",
      "Slovakia    2.52\n",
      "\n",
      "Group F\n",
      "Portugal    5.32\n",
      "France      5.32\n",
      "Germany     4.93\n",
      "Hungary     1.20\n",
      "\n"
     ]
    }
   ],
   "source": [
    "for group_letter, group_teams in groups.items():\n",
    "    print(f\"Group {group_letter}\")\n",
    "    print(gathered_points[group_teams].sort_values(ascending=False).round(2).to_string())\n",
    "    print()"
   ]
  },
  {
   "cell_type": "code",
   "execution_count": 64,
   "metadata": {},
   "outputs": [],
   "source": [
    "goals_scored = {}\n",
    "goals_letin = {}\n",
    "for match in euro_matches:\n",
    "    teamA = match[\"teamA\"]\n",
    "    teamB = match[\"teamB\"]\n",
    "    \n",
    "    if teamA not in goals_scored:\n",
    "        goals_scored[teamA] = 0\n",
    "    if teamA not in goals_letin:\n",
    "        goals_letin[teamA] = 0\n",
    "        \n",
    "    if teamB not in goals_scored:\n",
    "        goals_scored[teamB] = 0\n",
    "    if teamB not in goals_letin:\n",
    "        goals_letin[teamB] = 0\n",
    "    \n",
    "    #goal_countA, goalsA = np.unique(match[\"score1\"].ravel(), return_counts=True)\n",
    "    #goal_countB, goalsB = np.unique(match[\"score2\"].ravel(), return_counts=True)\n",
    "    \n",
    "    #goals_teamA = dict(zip(goal_countA, goalsA/sum(goalsA)))\n",
    "    #goals_teamB = dict(zip(goal_countB, goalsB/sum(goalsB)))\n",
    "    \n",
    "    goals_scored[teamA] += match[\"score1\"].mean()\n",
    "    goals_letin[teamA] += match[\"score2\"].mean()\n",
    "    \n",
    "    goals_scored[teamB] += match[\"score2\"].mean()\n",
    "    goals_letin[teamB] += match[\"score1\"].mean()"
   ]
  },
  {
   "cell_type": "code",
   "execution_count": 65,
   "metadata": {},
   "outputs": [],
   "source": [
    "goals_stats= pd.concat((pd.Series(goals_scored).sort_values(ascending=False).round(2), pd.Series(goals_letin).sort_values(ascending=False).round(2)), axis=1)\n",
    "goals_stats.columns = [\"Scored\", \"Let-in\"]"
   ]
  },
  {
   "cell_type": "code",
   "execution_count": 66,
   "metadata": {},
   "outputs": [
    {
     "data": {
      "text/html": [
       "<div>\n",
       "<style scoped>\n",
       "    .dataframe tbody tr th:only-of-type {\n",
       "        vertical-align: middle;\n",
       "    }\n",
       "\n",
       "    .dataframe tbody tr th {\n",
       "        vertical-align: top;\n",
       "    }\n",
       "\n",
       "    .dataframe thead th {\n",
       "        text-align: right;\n",
       "    }\n",
       "</style>\n",
       "<table border=\"1\" class=\"dataframe\">\n",
       "  <thead>\n",
       "    <tr style=\"text-align: right;\">\n",
       "      <th></th>\n",
       "      <th>Scored</th>\n",
       "      <th>Let-in</th>\n",
       "    </tr>\n",
       "  </thead>\n",
       "  <tbody>\n",
       "    <tr>\n",
       "      <th>Belgium</th>\n",
       "      <td>6.60</td>\n",
       "      <td>2.90</td>\n",
       "    </tr>\n",
       "    <tr>\n",
       "      <th>Netherlands</th>\n",
       "      <td>6.05</td>\n",
       "      <td>2.55</td>\n",
       "    </tr>\n",
       "    <tr>\n",
       "      <th>Spain</th>\n",
       "      <td>6.00</td>\n",
       "      <td>2.41</td>\n",
       "    </tr>\n",
       "    <tr>\n",
       "      <th>England</th>\n",
       "      <td>5.62</td>\n",
       "      <td>2.12</td>\n",
       "    </tr>\n",
       "    <tr>\n",
       "      <th>Germany</th>\n",
       "      <td>5.24</td>\n",
       "      <td>3.78</td>\n",
       "    </tr>\n",
       "    <tr>\n",
       "      <th>France</th>\n",
       "      <td>5.17</td>\n",
       "      <td>3.18</td>\n",
       "    </tr>\n",
       "    <tr>\n",
       "      <th>Portugal</th>\n",
       "      <td>4.94</td>\n",
       "      <td>3.02</td>\n",
       "    </tr>\n",
       "    <tr>\n",
       "      <th>Denmark</th>\n",
       "      <td>4.71</td>\n",
       "      <td>2.84</td>\n",
       "    </tr>\n",
       "    <tr>\n",
       "      <th>Croatia</th>\n",
       "      <td>4.23</td>\n",
       "      <td>3.71</td>\n",
       "    </tr>\n",
       "    <tr>\n",
       "      <th>Italy</th>\n",
       "      <td>4.14</td>\n",
       "      <td>1.87</td>\n",
       "    </tr>\n",
       "    <tr>\n",
       "      <th>Russia</th>\n",
       "      <td>3.63</td>\n",
       "      <td>5.37</td>\n",
       "    </tr>\n",
       "    <tr>\n",
       "      <th>Poland</th>\n",
       "      <td>3.57</td>\n",
       "      <td>4.00</td>\n",
       "    </tr>\n",
       "    <tr>\n",
       "      <th>Ukraine</th>\n",
       "      <td>3.49</td>\n",
       "      <td>3.90</td>\n",
       "    </tr>\n",
       "    <tr>\n",
       "      <th>Austria</th>\n",
       "      <td>3.49</td>\n",
       "      <td>4.01</td>\n",
       "    </tr>\n",
       "    <tr>\n",
       "      <th>Switzerland</th>\n",
       "      <td>3.35</td>\n",
       "      <td>2.93</td>\n",
       "    </tr>\n",
       "    <tr>\n",
       "      <th>Czech Republic</th>\n",
       "      <td>3.23</td>\n",
       "      <td>4.65</td>\n",
       "    </tr>\n",
       "    <tr>\n",
       "      <th>Sweden</th>\n",
       "      <td>3.21</td>\n",
       "      <td>3.77</td>\n",
       "    </tr>\n",
       "    <tr>\n",
       "      <th>North Macedonia</th>\n",
       "      <td>2.74</td>\n",
       "      <td>5.30</td>\n",
       "    </tr>\n",
       "    <tr>\n",
       "      <th>Slovakia</th>\n",
       "      <td>2.59</td>\n",
       "      <td>5.18</td>\n",
       "    </tr>\n",
       "    <tr>\n",
       "      <th>Scotland</th>\n",
       "      <td>2.52</td>\n",
       "      <td>5.11</td>\n",
       "    </tr>\n",
       "    <tr>\n",
       "      <th>Turkey</th>\n",
       "      <td>2.41</td>\n",
       "      <td>4.00</td>\n",
       "    </tr>\n",
       "    <tr>\n",
       "      <th>Wales</th>\n",
       "      <td>2.27</td>\n",
       "      <td>3.36</td>\n",
       "    </tr>\n",
       "    <tr>\n",
       "      <th>Finland</th>\n",
       "      <td>2.18</td>\n",
       "      <td>6.00</td>\n",
       "    </tr>\n",
       "    <tr>\n",
       "      <th>Hungary</th>\n",
       "      <td>1.92</td>\n",
       "      <td>7.29</td>\n",
       "    </tr>\n",
       "  </tbody>\n",
       "</table>\n",
       "</div>"
      ],
      "text/plain": [
       "                 Scored  Let-in\n",
       "Belgium            6.60    2.90\n",
       "Netherlands        6.05    2.55\n",
       "Spain              6.00    2.41\n",
       "England            5.62    2.12\n",
       "Germany            5.24    3.78\n",
       "France             5.17    3.18\n",
       "Portugal           4.94    3.02\n",
       "Denmark            4.71    2.84\n",
       "Croatia            4.23    3.71\n",
       "Italy              4.14    1.87\n",
       "Russia             3.63    5.37\n",
       "Poland             3.57    4.00\n",
       "Ukraine            3.49    3.90\n",
       "Austria            3.49    4.01\n",
       "Switzerland        3.35    2.93\n",
       "Czech Republic     3.23    4.65\n",
       "Sweden             3.21    3.77\n",
       "North Macedonia    2.74    5.30\n",
       "Slovakia           2.59    5.18\n",
       "Scotland           2.52    5.11\n",
       "Turkey             2.41    4.00\n",
       "Wales              2.27    3.36\n",
       "Finland            2.18    6.00\n",
       "Hungary            1.92    7.29"
      ]
     },
     "execution_count": 66,
     "metadata": {},
     "output_type": "execute_result"
    }
   ],
   "source": [
    "goals_stats"
   ]
  },
  {
   "cell_type": "code",
   "execution_count": 67,
   "metadata": {},
   "outputs": [],
   "source": [
    "match_res = []\n",
    "for match in euro_matches:\n",
    "    home_goals, visitor_goals = np.meshgrid(np.arange(0, 20), np.arange(0, 20))\n",
    "    prob = np.zeros_like(home_goals)\n",
    "    for item, item2 in zip(match[\"score1\"].ravel(), match[\"score2\"].ravel()):\n",
    "        prob[item, item2] += 1\n",
    "    prob = (prob / prob.sum())\n",
    "    match_res.append({\"teamA\": match[\"teamA\"], \"teamB\": match[\"teamB\"], \"result\": prob})"
   ]
  },
  {
   "cell_type": "code",
   "execution_count": 68,
   "metadata": {},
   "outputs": [],
   "source": [
    "from pathlib import Path"
   ]
  },
  {
   "cell_type": "code",
   "execution_count": 69,
   "metadata": {},
   "outputs": [
    {
     "name": "stdout",
     "output_type": "stream",
     "text": [
      "01. Turkey - Italy\n",
      "02. Wales - Switzerland\n",
      "03. Turkey - Wales\n",
      "04. Italy - Switzerland\n",
      "05. Italy - Wales\n",
      "06. Switzerland - Turkey\n",
      "07. Denmark - Finland\n",
      "08. Belgium - Russia\n",
      "09. Finland - Russia\n",
      "10. Denmark - Belgium\n",
      "11. Finland - Belgium\n",
      "12. Russia - Denmark\n",
      "13. Austria - North Macedonia\n",
      "14. Netherlands - Ukraine\n",
      "15. Ukraine - North Macedonia\n",
      "16. Netherlands - Austria\n",
      "17. Ukraine - Austria\n",
      "18. North Macedonia - Netherlands\n",
      "19. England - Croatia\n",
      "20. Scotland - Czech Republic\n",
      "21. Croatia - Czech Republic\n",
      "22. England - Scotland\n",
      "23. Czech Republic - England\n",
      "24. Croatia - Scotland\n",
      "25. Poland - Slovakia\n",
      "26. Spain - Sweden\n",
      "27. Sweden - Slovakia\n",
      "28. Spain - Poland\n",
      "29. Sweden - Poland\n",
      "30. Slovakia - Spain\n",
      "31. Hungary - Portugal\n",
      "32. France - Germany\n",
      "33. Hungary - France\n",
      "34. Portugal - Germany\n",
      "35. Germany - Hungary\n",
      "36. Portugal - France\n"
     ]
    }
   ],
   "source": [
    "for k, match in enumerate(match_res, 1):\n",
    "    plt.figure(figsize=(6,6), dpi=100)\n",
    "    plt.imshow(match[\"result\"])\n",
    "    plt.xlim(-0.5,6.5)\n",
    "    plt.ylim(-0.5,6.5)\n",
    "\n",
    "    plt.ylabel(f\"Goals {match['teamA']}\")\n",
    "    plt.xlabel(f\"Goals {match['teamB']}\")\n",
    "\n",
    "    plt.title(f\"{match['teamA']} - {match['teamB']}\")\n",
    "\n",
    "    for i, row in enumerate((match[\"result\"] * 100).round(0)):\n",
    "        if i > 6:\n",
    "            continue\n",
    "        for j, item in enumerate(row):\n",
    "            if j > 6:\n",
    "                continue\n",
    "            plt.text(i, j, horizontalalignment='center', verticalalignment='center',\n",
    "                     s=f'{round(100*match[\"result\"][j, i])}%', color=\"k\" if match[\"result\"][j, i]/match[\"result\"].max() > 0.35 else plt.cm.viridis_r(match[\"result\"][j, i]/match[\"result\"].max()))\n",
    "    pred_res = Path(\"./Predictions2\")\n",
    "    pred_res.mkdir(exist_ok=True, parents=True)\n",
    "    print(f\"{k:>02d}. {match['teamA']} - {match['teamB']}\")\n",
    "    plt.savefig(pred_res / f\"{k:>02d}. {match['teamA']} - {match['teamB']}.png\", dpi=300)\n",
    "    plt.close()"
   ]
  },
  {
   "cell_type": "markdown",
   "metadata": {},
   "source": [
    "# Calculate order probabilities"
   ]
  },
  {
   "cell_type": "code",
   "execution_count": 82,
   "metadata": {},
   "outputs": [],
   "source": [
    "points = {}\n",
    "for match in euro_matches:\n",
    "    teamA_wins = match[\"score1\"] > match[\"score2\"]\n",
    "    draw = match[\"score1\"] == match[\"score2\"]\n",
    "    teamB_wins = match[\"score1\"] < match[\"score2\"]\n",
    "    if match[\"teamA\"] not in points:\n",
    "        points[match[\"teamA\"]] = np.zeros_like(draw.ravel(), dtype=float)\n",
    "    if match[\"teamB\"] not in points:\n",
    "        points[match[\"teamB\"]] = np.zeros_like(draw.ravel(), dtype=float)\n",
    "    \n",
    "    points[match[\"teamA\"]] += (teamA_wins.astype(float) * 3).ravel()\n",
    "    points[match[\"teamA\"]] += (draw.astype(float) * 1).ravel()\n",
    "    \n",
    "    points[match[\"teamB\"]] += (teamB_wins.astype(float) * 3).ravel()\n",
    "    points[match[\"teamB\"]] += (draw.astype(float) * 1).ravel()"
   ]
  },
  {
   "cell_type": "code",
   "execution_count": 88,
   "metadata": {},
   "outputs": [],
   "source": [
    "points_df = pd.DataFrame(points)"
   ]
  },
  {
   "cell_type": "code",
   "execution_count": 164,
   "metadata": {},
   "outputs": [
    {
     "data": {
      "text/plain": [
       "(40000, 24)"
      ]
     },
     "execution_count": 164,
     "metadata": {},
     "output_type": "execute_result"
    }
   ],
   "source": [
    "points_df.shape"
   ]
  },
  {
   "cell_type": "code",
   "execution_count": 165,
   "metadata": {},
   "outputs": [],
   "source": [
    "ranks = {}\n",
    "for group_letter, group_teams in groups.items():\n",
    "    ranks[group_letter] = {key: (-points_df[group_teams]).rank(method=\"first\", axis=1).astype(int)[key].value_counts()/points_df.shape[0] for key in group_teams}"
   ]
  },
  {
   "cell_type": "code",
   "execution_count": 169,
   "metadata": {},
   "outputs": [
    {
     "data": {
      "text/plain": [
       "4    54.985\n",
       "3    32.115\n",
       "2     9.960\n",
       "1     2.940\n",
       "Name: Finland, dtype: float64"
      ]
     },
     "execution_count": 169,
     "metadata": {},
     "output_type": "execute_result"
    }
   ],
   "source": [
    "ranks[\"B\"][\"Finland\"] * 100"
   ]
  },
  {
   "cell_type": "code",
   "execution_count": 203,
   "metadata": {},
   "outputs": [
    {
     "name": "stdout",
     "output_type": "stream",
     "text": [
      "\n",
      "\n",
      "\n",
      "\n",
      "         Team A - Team B              1       X       2\n",
      "         Turkey - Italy               14.1    24.8    61.2\n",
      "          Wales - Switzerland         24.9    30.2    44.9\n",
      "         Turkey - Wales               32.2    32.0    35.8\n",
      "          Italy - Switzerland         48.5    29.0    22.6\n",
      "          Italy - Wales               55.9    29.2    14.9\n",
      "    Switzerland - Turkey              49.4    26.8    23.8\n",
      "        Denmark - Finland             67.3    22.1    10.6\n",
      "        Belgium - Russia              69.5    16.4    14.1\n",
      "        Finland - Russia              22.9    24.6    52.5\n",
      "        Denmark - Belgium             31.3    26.1    42.6\n",
      "\n",
      "\n",
      "\n",
      "\n",
      "         Team A - Team B              1       X       2\n",
      "        Finland - Belgium             7.6     14.1    78.2\n",
      "         Russia - Denmark             19.0    23.2    57.8\n",
      "        Austria - North Macedonia     48.1    25.9    25.9\n",
      "    Netherlands - Ukraine             58.8    22.9    18.3\n",
      "        Ukraine - North Macedonia     48.3    26.5    25.2\n",
      "    Netherlands - Austria             59.8    22.1    18.1\n",
      "        Ukraine - Austria             36.3    28.4    35.2\n",
      "North Macedonia - Netherlands         11.0    16.6    72.4\n",
      "        England - Croatia             56.0    24.2    19.9\n",
      "       Scotland - Czech Republic      29.2    26.6    44.2\n",
      "\n",
      "\n",
      "\n",
      "\n",
      "         Team A - Team B              1       X       2\n",
      "        Croatia - Czech Republic      48.9    24.5    26.5\n",
      "        England - Scotland            71.4    19.1     9.4\n",
      " Czech Republic - England             12.7    20.7    66.6\n",
      "        Croatia - Scotland            56.3    23.8    19.9\n",
      "         Poland - Slovakia            49.4    25.8    24.9\n",
      "          Spain - Sweden              59.9    23.3    16.9\n",
      "         Sweden - Slovakia            46.7    27.9    25.5\n",
      "          Spain - Poland              61.0    21.5    17.4\n",
      "         Sweden - Poland              34.2    29.3    36.5\n",
      "       Slovakia - Spain               10.1    17.0    73.0\n",
      "\n",
      "\n",
      "\n",
      "\n",
      "         Team A - Team B              1       X       2\n",
      "        Hungary - Portugal            8.1     16.3    75.6\n",
      "         France - Germany             42.3    24.2    33.5\n",
      "        Hungary - France              7.9     15.3    76.8\n",
      "       Portugal - Germany             42.3    25.0    32.7\n",
      "        Germany - Hungary             76.8    14.5     8.7\n",
      "       Portugal - France              36.4    27.7    35.9\n"
     ]
    }
   ],
   "source": [
    "for i, match in enumerate(euro_matches_stats):\n",
    "    if (i % 10) == 0:\n",
    "        print(\"\\n\"*3)\n",
    "        print(f\"{'Team A':>15} - {'Team B':<15}     {'1':<8}{'X'}{'2':>8}\")\n",
    "        \n",
    "    print(f\"{match['teamA']:>15} - {match['teamB']:<15}     {round(match['team1_win'] * 100,1):<8}{round(match['draw'] * 100,1)}{round(match['team2_win'] * 100,1):>8}\")"
   ]
  },
  {
   "cell_type": "code",
   "execution_count": 204,
   "metadata": {},
   "outputs": [],
   "source": [
    "for i, match in enumerate(match_res):\n",
    "    break"
   ]
  },
  {
   "cell_type": "code",
   "execution_count": 407,
   "metadata": {},
   "outputs": [
    {
     "data": {
      "text/plain": [
       "<matplotlib.image.AxesImage at 0x17167eb2358>"
      ]
     },
     "execution_count": 407,
     "metadata": {},
     "output_type": "execute_result"
    },
    {
     "data": {
      "image/png": "[encoded data removed]",
      "text/plain": [
       "<Figure size 432x288 with 1 Axes>"
      ]
     },
     "metadata": {
      "needs_background": "light"
     },
     "output_type": "display_data"
    }
   ],
   "source": [
    "plt.imshow(match_res[6][\"result\"])"
   ]
  },
  {
   "cell_type": "code",
   "execution_count": 416,
   "metadata": {},
   "outputs": [
    {
     "name": "stdout",
     "output_type": "stream",
     "text": [
      "         Turkey - Italy               0..1 - 1..2    50.4%\n",
      "                                      0..1 - 0..1    46.6%\n",
      "                                      0..1 - 2..3    33.7%\n",
      "\n",
      "          Wales - Switzerland         0..1 - 0..1    55.2%\n",
      "                                      0..1 - 1..2    46.1%\n",
      "                                      1..2 - 0..1    33.2%\n",
      "\n",
      "         Turkey - Wales               0..1 - 0..1    57.0%\n",
      "                                      0..1 - 1..2    41.5%\n",
      "                                      1..2 - 0..1    39.0%\n",
      "\n",
      "          Italy - Switzerland         0..1 - 0..1    53.0%\n",
      "                                      1..2 - 0..1    47.4%\n",
      "                                      0..1 - 1..2    30.9%\n",
      "\n",
      "          Italy - Wales               0..1 - 0..1    57.5%\n",
      "                                      1..2 - 0..1    52.2%\n",
      "                                      2..3 - 0..1    29.0%\n",
      "\n",
      "    Switzerland - Turkey              0..1 - 0..1    45.2%\n",
      "                                      1..2 - 0..1    45.1%\n",
      "                                      0..1 - 1..2    30.5%\n",
      "\n",
      "        Denmark - Finland             1..2 - 0..1    51.0%\n",
      "                                      0..1 - 0..1    43.1%\n",
      "                                      2..3 - 0..1    37.1%\n",
      "\n",
      "        Belgium - Russia              2..3 - 0..1    32.5%\n",
      "                                      1..2 - 0..1    31.1%\n",
      "                                      2..3 - 1..2    25.6%\n",
      "\n",
      "        Finland - Russia              0..1 - 1..2    42.0%\n",
      "                                      0..1 - 0..1    37.9%\n",
      "                                      1..2 - 1..2    30.9%\n",
      "\n",
      "        Denmark - Belgium             0..1 - 0..1    39.9%\n",
      "                                      0..1 - 1..2    38.9%\n",
      "                                      1..2 - 0..1    33.5%\n",
      "\n",
      "        Finland - Belgium             0..1 - 2..3    39.3%\n",
      "                                      0..1 - 1..2    38.6%\n",
      "                                      0..1 - 3..4    29.7%\n",
      "\n",
      "         Russia - Denmark             0..1 - 1..2    43.3%\n",
      "                                      0..1 - 0..1    36.7%\n",
      "                                      0..1 - 2..3    32.1%\n",
      "\n",
      "        Austria - North Macedonia     1..2 - 0..1    42.7%\n",
      "                                      0..1 - 0..1    41.8%\n",
      "                                      1..2 - 1..2    31.5%\n",
      "\n",
      "    Netherlands - Ukraine             1..2 - 0..1    43.3%\n",
      "                                      0..1 - 0..1    36.0%\n",
      "                                      2..3 - 0..1    32.8%\n",
      "\n",
      "        Ukraine - North Macedonia     1..2 - 0..1    43.1%\n",
      "                                      0..1 - 0..1    42.9%\n",
      "                                      1..2 - 1..2    30.9%\n",
      "\n",
      "    Netherlands - Austria             1..2 - 0..1    42.1%\n",
      "                                      0..1 - 0..1    34.7%\n",
      "                                      2..3 - 0..1    33.1%\n",
      "\n",
      "        Ukraine - Austria             0..1 - 0..1    47.2%\n",
      "                                      1..2 - 0..1    38.8%\n",
      "                                      0..1 - 1..2    38.2%\n",
      "\n",
      "North Macedonia - Netherlands         0..1 - 1..2    38.7%\n",
      "                                      0..1 - 2..3    37.3%\n",
      "                                      0..1 - 3..4    26.8%\n",
      "\n",
      "        England - Croatia             1..2 - 0..1    44.6%\n",
      "                                      0..1 - 0..1    39.7%\n",
      "                                      2..3 - 0..1    31.4%\n",
      "\n",
      "       Scotland - Czech Republic      0..1 - 0..1    42.5%\n",
      "                                      0..1 - 1..2    41.0%\n",
      "                                      1..2 - 0..1    33.3%\n",
      "\n",
      "        Croatia - Czech Republic      1..2 - 0..1    39.3%\n",
      "                                      0..1 - 0..1    35.1%\n",
      "                                      1..2 - 1..2    32.7%\n",
      "\n",
      "        England - Scotland            1..2 - 0..1    47.6%\n",
      "                                      2..3 - 0..1    39.5%\n",
      "                                      0..1 - 0..1    36.3%\n",
      "\n",
      " Czech Republic - England             0..1 - 1..2    46.1%\n",
      "                                      0..1 - 2..3    37.2%\n",
      "                                      0..1 - 0..1    35.8%\n",
      "\n",
      "        Croatia - Scotland            1..2 - 0..1    43.6%\n",
      "                                      0..1 - 0..1    38.1%\n",
      "                                      2..3 - 0..1    31.4%\n",
      "\n",
      "         Poland - Slovakia            1..2 - 0..1    42.3%\n",
      "                                      0..1 - 0..1    40.8%\n",
      "                                      1..2 - 1..2    31.3%\n",
      "\n",
      "          Spain - Sweden              1..2 - 0..1    45.5%\n",
      "                                      0..1 - 0..1    39.3%\n",
      "                                      2..3 - 0..1    33.5%\n",
      "\n",
      "         Sweden - Slovakia            0..1 - 0..1    48.0%\n",
      "                                      1..2 - 0..1    44.9%\n",
      "                                      0..1 - 1..2    32.4%\n",
      "\n",
      "          Spain - Poland              1..2 - 0..1    42.1%\n",
      "                                      2..3 - 0..1    33.8%\n",
      "                                      0..1 - 0..1    33.0%\n",
      "\n",
      "         Sweden - Poland              0..1 - 0..1    48.4%\n",
      "                                      0..1 - 1..2    39.4%\n",
      "                                      1..2 - 0..1    38.1%\n",
      "\n",
      "       Slovakia - Spain               0..1 - 1..2    41.1%\n",
      "                                      0..1 - 2..3    38.2%\n",
      "                                      0..1 - 0..1    27.9%\n",
      "\n",
      "        Hungary - Portugal            0..1 - 1..2    44.0%\n",
      "                                      0..1 - 2..3    40.6%\n",
      "                                      0..1 - 0..1    30.6%\n",
      "\n",
      "         France - Germany             1..2 - 0..1    35.0%\n",
      "                                      1..2 - 1..2    33.6%\n",
      "                                      0..1 - 0..1    32.4%\n",
      "\n",
      "        Hungary - France              0..1 - 1..2    41.2%\n",
      "                                      0..1 - 2..3    40.1%\n",
      "                                      0..1 - 3..4    28.7%\n",
      "\n",
      "       Portugal - Germany             1..2 - 0..1    37.1%\n",
      "                                      0..1 - 0..1    36.6%\n",
      "                                      1..2 - 1..2    33.1%\n",
      "\n",
      "        Germany - Hungary             2..3 - 0..1    38.4%\n",
      "                                      1..2 - 0..1    36.5%\n",
      "                                      3..4 - 0..1    29.4%\n",
      "\n",
      "       Portugal - France              0..1 - 0..1    44.2%\n",
      "                                      1..2 - 0..1    37.9%\n",
      "                                      0..1 - 1..2    37.8%\n",
      "\n"
     ]
    }
   ],
   "source": [
    "with open(\"goal_results.txt\", \"w\") as f:\n",
    "    for i, match in enumerate(match_res):\n",
    "        props = []\n",
    "        probs = []\n",
    "        for s2 in range(0, 20-4):\n",
    "            for e2 in range(s2+1, s2+5):\n",
    "                for s1 in range(0, 20-5):\n",
    "                    for e1 in range(s1+1, s1+5-(e2-s2)):\n",
    "                        prob = match[\"result\"][s1:e1+1, s2:e2+1].sum()\n",
    "                        prop = (s1, e1, s2, e2)\n",
    "                        if ((prop[1]+1 - prop[0]) * (prop[3]+1 - prop[2])) > 4:\n",
    "                            continue\n",
    "                        if prob > 0:\n",
    "                            probs.append(prob)\n",
    "                            props.append(prop)\n",
    "        res = pd.concat((pd.DataFrame(probs), pd.DataFrame(props)), axis=1)\n",
    "        res.columns = [\"prob\", \"s1\", \"e1\", \"s2\", \"e2\"]\n",
    "        res = res.sort_values(by=\"prob\", ascending=False)\n",
    "        print(f\"{match['teamA']:>15} - {match['teamB']:<15}     {int(res.iloc[0]['s1'])}..{int(res.iloc[0]['e1'])} - {int(res.iloc[0]['s2'])}..{int(res.iloc[0]['e2'])}    {round(res.iloc[0]['prob']*100, 1)}%\")\n",
    "        for i in range(1,3):\n",
    "            print(f\"{'':>15}   {'':<15}     {int(res.iloc[i]['s1'])}..{int(res.iloc[i]['e1'])} - {int(res.iloc[i]['s2'])}..{int(res.iloc[i]['e2'])}    {round(res.iloc[i]['prob']*100, 1)}%\")\n",
    "        print()\n",
    "\n",
    "        print(f\"{match['teamA']:>15} - {match['teamB']:<15}     {int(res.iloc[0]['s1'])}..{int(res.iloc[0]['e1'])} - {int(res.iloc[0]['s2'])}..{int(res.iloc[0]['e2'])}    {round(res.iloc[0]['prob']*100, 1)}%\", file=f)\n",
    "        for i in range(1,3):\n",
    "            print(f\"{'':>15}   {'':<15}     {int(res.iloc[i]['s1'])}..{int(res.iloc[i]['e1'])} - {int(res.iloc[i]['s2'])}..{int(res.iloc[i]['e2'])}    {round(res.iloc[i]['prob']*100, 1)}%\", file=f)\n",
    "        print(file=f)"
   ]
  },
  {
   "cell_type": "code",
   "execution_count": 412,
   "metadata": {},
   "outputs": [
    {
     "data": {
      "text/plain": [
       "0.430875"
      ]
     },
     "execution_count": 412,
     "metadata": {},
     "output_type": "execute_result"
    }
   ],
   "source": [
    "match[\"result\"][0:1+1, 0:1+1].sum()"
   ]
  },
  {
   "cell_type": "code",
   "execution_count": 380,
   "metadata": {},
   "outputs": [
    {
     "name": "stdout",
     "output_type": "stream",
     "text": [
      "         Turkey - Italy               0..0 - 1..0    50.4%\n",
      "                                      0..0 - 0..0    46.6%\n",
      "                                      0..0 - 2..0    33.7%\n",
      "\n"
     ]
    }
   ],
   "source": []
  },
  {
   "cell_type": "code",
   "execution_count": null,
   "metadata": {},
   "outputs": [],
   "source": []
  }
 ],
 "metadata": {
  "kernelspec": {
   "display_name": "Python 3",
   "language": "python",
   "name": "python3"
  },
  "language_info": {
   "codemirror_mode": {
    "name": "ipython",
    "version": 3
   },
   "file_extension": ".py",
   "mimetype": "text/x-python",
   "name": "python",
   "nbconvert_exporter": "python",
   "pygments_lexer": "ipython3",
   "version": "3.7.3"
  }
 },
 "nbformat": 4,
 "nbformat_minor": 4
}
